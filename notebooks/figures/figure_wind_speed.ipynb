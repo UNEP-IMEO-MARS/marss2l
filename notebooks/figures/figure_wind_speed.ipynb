{
 "cells": [
  {
   "cell_type": "markdown",
   "id": "fb8e3b17-56b2-4382-966e-65203cabdf79",
   "metadata": {},
   "source": [
    "# Data distribution in the dataset"
   ]
  },
  {
   "cell_type": "code",
   "execution_count": 1,
   "id": "9369c008-2d11-4204-8f74-97de544fd2d9",
   "metadata": {},
   "outputs": [
    {
     "name": "stdout",
     "output_type": "stream",
     "text": [
      "Using account key\n"
     ]
    }
   ],
   "source": [
    "import matplotlib\n",
    "from marss2l.utils import setup_stream_logger\n",
    "import logging\n",
    "from marss2l.utils import setup_stream_logger, get_remote_filesystem\n",
    "import os\n",
    "fs = get_remote_filesystem()\n",
    "\n",
    "logger = logging.getLogger(__name__)\n",
    "setup_stream_logger(logger)\n",
    "\n",
    "matplotlib.rcParams['mathtext.fontset'] = 'stix'\n",
    "matplotlib.rcParams['font.family'] = 'STIXGeneral'\n",
    "\n",
    "C0 = \"#648FFF\"\n",
    "C1 = \"#785EF0\"\n",
    "C2 = \"#DC267F\"\n",
    "C3 = \"#FE6100\"\n",
    "C4 = \"#FFB000\" # #FFB000\n",
    "\n",
    "os.makedirs(\"figures\", exist_ok=True)"
   ]
  },
  {
   "cell_type": "code",
   "execution_count": 2,
   "id": "b4cf49eb-a19a-44fa-bdda-1bede27f9d67",
   "metadata": {},
   "outputs": [],
   "source": [
    "from marss2l import loaders\n",
    "\n",
    "dataframe_data_traintest = loaders.read_csv(add_columns_for_analysis=True, fs=fs, split=\"all\")"
   ]
  },
  {
   "cell_type": "markdown",
   "id": "3e49cd97-ab9b-4b23-bf8b-3bc5f747a77f",
   "metadata": {},
   "source": [
    "## Stats splits dataset"
   ]
  },
  {
   "cell_type": "code",
   "execution_count": 3,
   "id": "2351d4f2-5a03-455a-8744-289ffc5c329d",
   "metadata": {
    "scrolled": true
   },
   "outputs": [
    {
     "data": {
      "text/html": [
       "<div>\n",
       "<style scoped>\n",
       "    .dataframe tbody tr th:only-of-type {\n",
       "        vertical-align: middle;\n",
       "    }\n",
       "\n",
       "    .dataframe tbody tr th {\n",
       "        vertical-align: top;\n",
       "    }\n",
       "\n",
       "    .dataframe thead th {\n",
       "        text-align: right;\n",
       "    }\n",
       "</style>\n",
       "<table border=\"1\" class=\"dataframe\">\n",
       "  <thead>\n",
       "    <tr style=\"text-align: right;\">\n",
       "      <th></th>\n",
       "      <th>split_name</th>\n",
       "      <th>nimages</th>\n",
       "      <th>nplumes</th>\n",
       "      <th>nlocs</th>\n",
       "      <th>min date</th>\n",
       "      <th>max date</th>\n",
       "    </tr>\n",
       "  </thead>\n",
       "  <tbody>\n",
       "    <tr>\n",
       "      <th>0</th>\n",
       "      <td>train_2023</td>\n",
       "      <td>38366</td>\n",
       "      <td>3433</td>\n",
       "      <td>618</td>\n",
       "      <td>2018-01-01 09:13:51+00:00</td>\n",
       "      <td>2023-11-30 10:33:09+00:00</td>\n",
       "    </tr>\n",
       "    <tr>\n",
       "      <th>1</th>\n",
       "      <td>val_2023</td>\n",
       "      <td>6034</td>\n",
       "      <td>288</td>\n",
       "      <td>89</td>\n",
       "      <td>2021-01-01 07:03:09+00:00</td>\n",
       "      <td>2021-12-31 10:03:23.429000+00:00</td>\n",
       "    </tr>\n",
       "    <tr>\n",
       "      <th>2</th>\n",
       "      <td>test_2023</td>\n",
       "      <td>43529</td>\n",
       "      <td>1813</td>\n",
       "      <td>1289</td>\n",
       "      <td>2024-01-01 00:05:22.713000+00:00</td>\n",
       "      <td>2024-12-31 17:27:23.051000+00:00</td>\n",
       "    </tr>\n",
       "  </tbody>\n",
       "</table>\n",
       "</div>"
      ],
      "text/plain": [
       "   split_name  nimages  nplumes  nlocs                         min date  \\\n",
       "0  train_2023    38366     3433    618        2018-01-01 09:13:51+00:00   \n",
       "1    val_2023     6034      288     89        2021-01-01 07:03:09+00:00   \n",
       "2   test_2023    43529     1813   1289 2024-01-01 00:05:22.713000+00:00   \n",
       "\n",
       "                          max date  \n",
       "0        2023-11-30 10:33:09+00:00  \n",
       "1 2021-12-31 10:03:23.429000+00:00  \n",
       "2 2024-12-31 17:27:23.051000+00:00  "
      ]
     },
     "execution_count": 3,
     "metadata": {},
     "output_type": "execute_result"
    }
   ],
   "source": [
    "stats_time = dataframe_data_traintest.groupby(\"split_name\")[\"tile_date\"].agg([\"count\", \"min\", \"max\"]).rename(columns={\"count\": \"nimages\", \"min\": \"min date\", \"max\": \"max date\"})\n",
    "stats_plumes = dataframe_data_traintest.groupby(\"split_name\")[\"isplume\"].sum()\n",
    "stats_locs = dataframe_data_traintest.groupby(\"split_name\")[\"location_name\"].nunique()\n",
    "stats_time[\"nplumes\"] = stats_plumes\n",
    "stats_time[\"nlocs\"] = stats_locs\n",
    "\n",
    "stats_time.loc[[\"train_2023\", \"val_2023\", \"test_2023\"], [\"nimages\", \"nplumes\",\"nlocs\", \"min date\", \"max date\"]].reset_index()\n"
   ]
  },
  {
   "cell_type": "markdown",
   "id": "80a66bb4-9892-481a-8058-a173975365c2",
   "metadata": {},
   "source": [
    "## Figure wind speed "
   ]
  },
  {
   "cell_type": "code",
   "execution_count": 4,
   "id": "8f0515d6-28e9-48fb-afe1-f210eb3fad45",
   "metadata": {},
   "outputs": [
    {
     "data": {
      "image/png": "[encoded data removed]",
      "text/plain": [
       "<Figure size 600x350 with 2 Axes>"
      ]
     },
     "metadata": {},
     "output_type": "display_data"
    }
   ],
   "source": [
    "import seaborn as sns\n",
    "import matplotlib.pyplot as plt\n",
    "import numpy as np\n",
    "\n",
    "dataframe_data_traintest_indexed = dataframe_data_traintest.set_index(\"id_loc_image\")\n",
    "valimages_df = dataframe_data_traintest_indexed.loc[dataframe_data_traintest_indexed.split_name.isin([\"train_2023\", \"val_2023\", \"test_2023\"])]\n",
    "\n",
    "valplumes_df = valimages_df[valimages_df.isplume].copy()\n",
    "\n",
    "fig, ax = plt.subplots(2,1,figsize=(6,3.5),sharex=True, tight_layout=True)\n",
    "\n",
    "bins = [0,] + np.arange(0.5,valplumes_df.wind_speed.max()+.5,1).tolist()\n",
    "bins_centers = np.arange(0,valplumes_df.wind_speed.max()+.5,1)\n",
    "sns.histplot(x=\"wind_speed\",data=valimages_df, bins=bins,color=C1,\n",
    "            cumulative=False,common_norm=False,ax=ax[0])\n",
    "sns.histplot(x=\"wind_speed\",data=valimages_df[valimages_df.isplume], bins=bins,\n",
    "             color=C1,\n",
    "            cumulative=False,common_norm=False,ax=ax[1])\n",
    "ax[1].set_xticks(bins_centers)\n",
    "ax[1].set_ylabel(\"plumes\")\n",
    "ax[0].set_ylabel(\"images\")\n",
    "ax[1].set_xlabel(\"Wind speed (m/s)\")\n",
    "fig.savefig(\"figures/stats_by_wind.pdf\")"
   ]
  },
  {
   "cell_type": "markdown",
   "id": "f7485602-ff2f-4d56-aba5-5f90e18f1a2d",
   "metadata": {},
   "source": [
    "## Figure area of the plume"
   ]
  },
  {
   "cell_type": "code",
   "execution_count": 5,
   "id": "f5f6eb27-61ba-4cf9-8339-a68d22c9ce44",
   "metadata": {},
   "outputs": [
    {
     "name": "stderr",
     "output_type": "stream",
     "text": [
      "/tmp/ipykernel_224426/4288469382.py:30: FutureWarning: Setting an item of incompatible dtype is deprecated and will raise an error in a future version of pandas. Value '[ 88661.64262182 119200.62052721 204363.39520962 ... 116100.00000028\n",
      "  21645.35776812  28835.85959053]' has dtype incompatible with int64, please explicitly cast to a compatible dtype first.\n",
      "  dataframe_data_traintest_indexed.loc[plumes_good_index, \"area_meters\"] = dataframe_data_traintest_indexed.loc[plumes_good_index, \"geometry\"].apply(lambda x: compute_area(x))\n"
     ]
    }
   ],
   "source": [
    "from shapely import from_wkt\n",
    "import geopandas as gpd\n",
    "import rasterio.warp\n",
    "from georeader import get_utm_epsg\n",
    "from shapely.geometry import shape\n",
    "\n",
    "dataframe_data_traintest_indexed = gpd.GeoDataFrame(dataframe_data_traintest_indexed, geometry=dataframe_data_traintest_indexed[\"plume\"].apply(lambda x: from_wkt(x)),\n",
    "                                                    crs=\"EPSG:4326\")\n",
    "\n",
    "def compute_area(geometry, crs_geometry:str=\"EPSG:4326\") -> float:\n",
    "    \"\"\"\n",
    "    Compute the area of a geometry in square meters by projecting it to UTM.\n",
    "\n",
    "    Args:\n",
    "        geometry (Geometry): geometry to compute the area\n",
    "        crs_geometry (_type_, optional): CRS of the geometry. Defaults to \"EPSG:4326\".\n",
    "\n",
    "    Returns:\n",
    "        float: area of the geometry in square meters\n",
    "    \"\"\"\n",
    "    center = geometry.centroid\n",
    "    utm_crs = get_utm_epsg(center)\n",
    "    geometry_utm = shape(rasterio.warp.transform_geom(crs_geometry, \n",
    "                                                      utm_crs, geometry))\n",
    "    return geometry_utm.area\n",
    "\n",
    "\n",
    "dataframe_data_traintest_indexed[\"area_meters\"] = 0\n",
    "plumes_good_index = dataframe_data_traintest_indexed.isplume & ~dataframe_data_traintest_indexed[\"geometry\"].is_empty\n",
    "dataframe_data_traintest_indexed.loc[plumes_good_index, \"area_meters\"] = dataframe_data_traintest_indexed.loc[plumes_good_index, \"geometry\"].apply(lambda x: compute_area(x))\n",
    "dataframe_data_traintest_indexed[\"area_km\"] = dataframe_data_traintest_indexed[\"area_meters\"] / (1000**2)\n",
    "valimages_df = dataframe_data_traintest_indexed.loc[dataframe_data_traintest_indexed.split_name.isin([\"train_2023\", \"val_2023\", \"test_2023\"])]\n",
    "valplumes_df = valimages_df[valimages_df.isplume].copy()"
   ]
  },
  {
   "cell_type": "code",
   "execution_count": 6,
   "id": "6f5897b0-f7d4-424d-a879-0462dc487489",
   "metadata": {},
   "outputs": [
    {
     "data": {
      "text/plain": [
       "<Axes: xlabel='area_meters', ylabel='Count'>"
      ]
     },
     "execution_count": 6,
     "metadata": {},
     "output_type": "execute_result"
    },
    {
     "data": {
      "image/png": "[encoded data removed]",
      "text/plain": [
       "<Figure size 640x480 with 1 Axes>"
      ]
     },
     "metadata": {},
     "output_type": "display_data"
    }
   ],
   "source": [
    "sns.histplot(x=\"area_meters\",data=valplumes_df,color=C1,\n",
    "            cumulative=False,common_norm=False)"
   ]
  },
  {
   "cell_type": "code",
   "execution_count": 7,
   "id": "27f94f0a-665d-47f7-a1e3-120b56b499a1",
   "metadata": {},
   "outputs": [
    {
     "name": "stderr",
     "output_type": "stream",
     "text": [
      "/tmp/ipykernel_224426/1612739842.py:31: UserWarning: This figure includes Axes that are not compatible with tight_layout, so results might be incorrect.\n",
      "  fig.tight_layout()\n"
     ]
    },
    {
     "data": {
      "image/png": "[encoded data removed]",
      "text/plain": [
       "<Figure size 600x300 with 2 Axes>"
      ]
     },
     "metadata": {},
     "output_type": "display_data"
    }
   ],
   "source": [
    "import numpy as np\n",
    "from mpl_toolkits.axes_grid1.inset_locator import zoomed_inset_axes\n",
    "from mpl_toolkits.axes_grid1.inset_locator import mark_inset\n",
    "\n",
    "threshold_pixels = 100 * 10**2\n",
    "fig, ax = plt.subplots(1,1,figsize=(6,3))\n",
    "ax.hist(valplumes_df[\"area_meters\"], \n",
    "        bins=50,\n",
    "         # bins=list(range(0,10_000,500))+list(range(10_000,100_000,5_000)),\n",
    "         zorder=2, alpha=0.8, linewidth=1, edgecolor=\"black\",color=C1)\n",
    "# ax.set_xticks(np.arange(0,100_000,4000), [f\"{l:.0f}\"for l in np.arange(0,100_000,4000)/1000])\n",
    "ax.set_xlabel(\"Area (m²)\")\n",
    "ax.set_ylabel(\"plumes\")\n",
    "ax.grid(axis=\"y\")\n",
    "\n",
    "# axins = zoomed_inset_axes(ax, 3, loc=1) # zoom = 6\n",
    "axins = plt.axes([.3, .6, .65, .3])\n",
    "axins.hist(valplumes_df[\"area_meters\"], \n",
    "         # bins=list(range(0,10_000,500))+list(range(10_000,100_000,5_000)),\n",
    "         bins=list(range(0,1000*10**2,10**3)),\n",
    "         zorder=2, alpha=0.8, linewidth=1, edgecolor=\"black\",color=C1)\n",
    "axins.vlines(x=threshold_pixels, ymin=0, ymax=40, colors=C2)\n",
    "# axins.set_xticks(np.arange(0,8_500,500), [f\"{l:.1f}\" if f\"{l:.1f}\"[-1] == \"5\" else f\"{l:.0f}\" for l in np.arange(0,8_500,500)/1000])\n",
    "# axins.set_yticks(range(0,400, 100))\n",
    "# axins.set_xlabel(\"Flux rate (t/h)\")\n",
    "# axins.set_ylabel(\"# plumes\")\n",
    "axins.grid(axis=\"y\")\n",
    "\n",
    "mark_inset(ax, axins, loc1=3, loc2=4, fc=\"none\", ec=\"0.5\")\n",
    "\n",
    "fig.tight_layout()\n",
    "fig.savefig(\"figures/areaplume.pdf\")"
   ]
  },
  {
   "cell_type": "code",
   "execution_count": 8,
   "id": "e7dc721f-4e1a-450e-830f-1454f017450f",
   "metadata": {},
   "outputs": [
    {
     "name": "stdout",
     "output_type": "stream",
     "text": [
      "There are 26 of 5534 plumes with less than 10000 m². 0.47%\n"
     ]
    }
   ],
   "source": [
    "nplumes_smaller = (valplumes_df.area_meters < threshold_pixels).sum()\n",
    "print(f\"There are {nplumes_smaller} of {valplumes_df.shape[0]} plumes with less than {threshold_pixels} m². {nplumes_smaller/valplumes_df.shape[0] * 100:.2f}%\")"
   ]
  },
  {
   "cell_type": "code",
   "execution_count": 9,
   "id": "b032fd19-6254-4d80-b8bd-bc6c3156de12",
   "metadata": {},
   "outputs": [
    {
     "name": "stdout",
     "output_type": "stream",
     "text": [
      "There are 1 of 5534 plumes with less than 5000 m². 0.02%\n"
     ]
    }
   ],
   "source": [
    "# With threshold 100 instead of 150\n",
    "threshold = 50 *10**2\n",
    "nplumes_smaller = (valplumes_df.area_meters < threshold).sum()\n",
    "print(f\"There are {nplumes_smaller} of {valplumes_df.shape[0]} plumes with less than {threshold} m². {nplumes_smaller/valplumes_df.shape[0] * 100:.2f}%\")"
   ]
  }
 ],
 "metadata": {
  "kernelspec": {
   "display_name": "marss2lpy312",
   "language": "python",
   "name": "marss2lpy312"
  },
  "language_info": {
   "codemirror_mode": {
    "name": "ipython",
    "version": 3
   },
   "file_extension": ".py",
   "mimetype": "text/x-python",
   "name": "python",
   "nbconvert_exporter": "python",
   "pygments_lexer": "ipython3",
   "version": "3.12.5"
  }
 },
 "nbformat": 4,
 "nbformat_minor": 5
}
